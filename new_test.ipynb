{
 "cells": [
  {
   "cell_type": "code",
   "execution_count": 7,
   "metadata": {},
   "outputs": [],
   "source": [
    "def a_qui(tour):\n",
    "    \"\"\"_summary_\n",
    "\n",
    "    Args:\n",
    "        tour (_type_): numéro du tour\n",
    "\n",
    "    Returns:\n",
    "        _type_: renvoi booléen: permet ensuitre de savoir quel signe et quel joueur joue\n",
    "    \"\"\"\n",
    "    if tour%2==0:\n",
    "        return True\n",
    "    else:\n",
    "        return False\n",
    "\n",
    "\n",
    "def reafection_value(choix):                                                                                     #reaffecte valeur\n",
    "    \"\"\"_\n",
    "    reaffecte le choix de position à une valeur utilisable pour placer dans la grille via dictionnaire\n",
    "    Args:le choix de la position du joueur [1-9]\n",
    "        choix (_type_): _de\n",
    "    \"\"\"\n",
    "    \n",
    "    \n",
    "    if choix in [1,4,7]:\n",
    "        posii=0\n",
    "    elif choix in [2,5,8]:\n",
    "        posii=1\n",
    "    elif choix in [3,6,9]:\n",
    "        posii=2\n",
    "    return posii\n",
    "\n",
    "def afficher_grille(tabl):                                                                                           #afficher grille\n",
    "    \"\"\"_summary_: permet d'afficher la grille morpion\n",
    "\n",
    "    Args:\n",
    "        tabl (dic): a besoin d'un dico à 3 clés \"a,b et c\">> contenant chacune une liste de 3 valeurs \n",
    "    En retour: affichage de la grille morpion\n",
    "    \"\"\"\n",
    "    print (\"{}|{}|{}\".format(tabl['a'][0],tabl['a'][1],tabl['a'][2]))   \n",
    "    print (\"{}|{}|{}\".format(tabl['b'][0],tabl['b'][1],tabl['b'][2])) \n",
    "    print (\"{}|{}|{}\".format(tabl['c'][0],tabl['c'][1],tabl['c'][2])) \n",
    "\n",
    "\n",
    "def choix_po():                                                                                                        #à quelle place le joueur joue\n",
    "    choix_pos_user=32#choix position\n",
    "    \n",
    "    while int(choix_pos_user) not in range (1,10):\n",
    "        choix_pos_user=input(\"sur quelle case tu veux jouer?(1-9!!!)\")\n",
    "    return choix_pos_user"
   ]
  },
  {
   "cell_type": "code",
   "execution_count": 8,
   "metadata": {},
   "outputs": [
    {
     "name": "stdout",
     "output_type": "stream",
     "text": [
      "au joueur 2 de jouer, allez!\n",
      "7|8|9\n",
      "4|5|6\n",
      "1|2|3\n"
     ]
    },
    {
     "ename": "UnboundLocalError",
     "evalue": "local variable 'posii' referenced before assignment",
     "output_type": "error",
     "traceback": [
      "\u001b[0;31m---------------------------------------------------------------------------\u001b[0m",
      "\u001b[0;31mUnboundLocalError\u001b[0m                         Traceback (most recent call last)",
      "Cell \u001b[0;32mIn[8], line 22\u001b[0m\n\u001b[1;32m     20\u001b[0m afficher_grille(grille)\n\u001b[1;32m     21\u001b[0m choix\u001b[39m=\u001b[39mchoix_po()                                                                            \u001b[39m#retourne choix de position entre 1 et 10\u001b[39;00m\n\u001b[0;32m---> 22\u001b[0m posi\u001b[39m=\u001b[39mreafection_value(choix) \n\u001b[1;32m     23\u001b[0m \u001b[39mprint\u001b[39m(posi)\n",
      "Cell \u001b[0;32mIn[7], line 30\u001b[0m, in \u001b[0;36mreafection_value\u001b[0;34m(choix)\u001b[0m\n\u001b[1;32m     28\u001b[0m \u001b[39melif\u001b[39;00m choix \u001b[39min\u001b[39;00m [\u001b[39m3\u001b[39m,\u001b[39m6\u001b[39m,\u001b[39m9\u001b[39m]:\n\u001b[1;32m     29\u001b[0m     posii\u001b[39m=\u001b[39m\u001b[39m2\u001b[39m\n\u001b[0;32m---> 30\u001b[0m \u001b[39mreturn\u001b[39;00m posii\n",
      "\u001b[0;31mUnboundLocalError\u001b[0m: local variable 'posii' referenced before assignment"
     ]
    }
   ],
   "source": [
    "tour=1\n",
    "grille= {\n",
    "    'a': [7,8,9],\n",
    "    'b': [4,5,6],\n",
    "    'c': [1,2,3]\n",
    "}\n",
    "\n",
    "if a_qui(tour):\n",
    "    signe=\"X\" \n",
    "else:\n",
    "    signe=\"O\"  \n",
    "\n",
    "if signe=='X':\n",
    "    joueur_actu=\"joueur_1\"\n",
    "    print(\"au joueur 1 de jouer, allez!\")\n",
    "elif signe=='O':\n",
    "    joueur_actu=\"joueur_2\"\n",
    "    print(\"au joueur 2 de jouer, allez!\")\n",
    "    \n",
    "afficher_grille(grille)\n",
    "choix=choix_po()                                                                            #retourne choix de position entre 1 et 10\n",
    "posi=reafection_value(choix) \n",
    "print(posi)     "
   ]
  },
  {
   "cell_type": "code",
   "execution_count": 14,
   "metadata": {},
   "outputs": [
    {
     "name": "stdout",
     "output_type": "stream",
     "text": [
      "ok\n",
      "\n",
      " \n",
      " \n",
      " \n",
      "\n",
      "ok\n"
     ]
    }
   ],
   "source": [
    "grille= {\n",
    "    'a': [7,8,9],\n",
    "    'b': [4,5,6],\n",
    "    'c': [1,2,3]\n",
    "}\n",
    "\n",
    "\n",
    "\n",
    "if grille['a'][0]==grille['a'][1]==grille['a'][2]:\n",
    "    print(\"falser\")\n",
    "else:\n",
    "    print(\"ok\")\n",
    "    \n",
    "print('\\n \\n \\n \\n')\n",
    "print('ok')"
   ]
  }
 ],
 "metadata": {
  "kernelspec": {
   "display_name": "base",
   "language": "python",
   "name": "python3"
  },
  "language_info": {
   "codemirror_mode": {
    "name": "ipython",
    "version": 3
   },
   "file_extension": ".py",
   "mimetype": "text/x-python",
   "name": "python",
   "nbconvert_exporter": "python",
   "pygments_lexer": "ipython3",
   "version": "3.10.8 (main, Nov 24 2022, 14:13:03) [GCC 11.2.0]"
  },
  "orig_nbformat": 4,
  "vscode": {
   "interpreter": {
    "hash": "d25f34363254810493f69e19f8fea8925d807b842d2c9e5aec83143d940402f1"
   }
  }
 },
 "nbformat": 4,
 "nbformat_minor": 2
}
